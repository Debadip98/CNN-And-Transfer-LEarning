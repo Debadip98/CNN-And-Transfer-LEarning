{
 "cells": [
  {
   "cell_type": "markdown",
   "metadata": {},
   "source": [
    "## Creating CNN Using Scratch And Transfer Learning"
   ]
  },
  {
   "cell_type": "markdown",
   "metadata": {},
   "source": [
    "Please download the dataset from the below url"
   ]
  },
  {
   "cell_type": "code",
   "execution_count": 1,
   "metadata": {},
   "outputs": [],
   "source": [
    "# import the libraries as shown below\n",
    "\n",
    "from tensorflow.keras.layers import Input, Lambda, Dense, Flatten,Conv2D\n",
    "from tensorflow.keras.models import Model\n",
    "from tensorflow.keras.applications.vgg19 import VGG19\n",
    "from tensorflow.keras.applications.resnet50 import preprocess_input\n",
    "from tensorflow.keras.preprocessing import image\n",
    "from tensorflow.keras.preprocessing.image import ImageDataGenerator,load_img\n",
    "from tensorflow.keras.models import Sequential\n",
    "import numpy as np\n",
    "from glob import glob\n",
    "import matplotlib.pyplot as plt"
   ]
  },
  {
   "cell_type": "code",
   "execution_count": 2,
   "metadata": {},
   "outputs": [],
   "source": [
    "# re-size all the images to this\n",
    "IMAGE_SIZE = [224, 224]\n",
    "\n",
    "train_path = 'cell_images/Train'\n",
    "valid_path = 'cell_images/Test'\n"
   ]
  },
  {
   "cell_type": "code",
   "execution_count": 3,
   "metadata": {},
   "outputs": [],
   "source": [
    "# Import the Vgg 16 library as shown below and add preprocessing layer to the front of VGG\n",
    "# Here we will be using imagenet weights\n",
    "\n",
    "mobilnet = VGG19(input_shape=IMAGE_SIZE + [3], weights='imagenet', include_top=False)\n",
    "\n",
    "\n"
   ]
  },
  {
   "cell_type": "code",
   "execution_count": 4,
   "metadata": {},
   "outputs": [],
   "source": [
    "# don't train existing weights\n",
    "for layer in mobilnet.layers:\n",
    "    layer.trainable = False"
   ]
  },
  {
   "cell_type": "code",
   "execution_count": 5,
   "metadata": {},
   "outputs": [],
   "source": [
    "  # useful for getting number of output classes\n",
    "folders = glob(r\"C:\\Users\\DEBADIP CHAKRABORTY\\Downloads\\Malaria-Detection-master\\Malaria-Detection-master\\Dataset\\Dataset\\Train\")"
   ]
  },
  {
   "cell_type": "code",
   "execution_count": 6,
   "metadata": {},
   "outputs": [
    {
     "data": {
      "text/plain": [
       "['C:\\\\Users\\\\DEBADIP CHAKRABORTY\\\\Downloads\\\\Malaria-Detection-master\\\\Malaria-Detection-master\\\\Dataset\\\\Dataset\\\\Train']"
      ]
     },
     "execution_count": 6,
     "metadata": {},
     "output_type": "execute_result"
    }
   ],
   "source": [
    "folders"
   ]
  },
  {
   "cell_type": "code",
   "execution_count": 7,
   "metadata": {},
   "outputs": [],
   "source": [
    "# our layers - you can add more if you want\n",
    "x = Flatten()(mobilnet.output)"
   ]
  },
  {
   "cell_type": "code",
   "execution_count": 8,
   "metadata": {},
   "outputs": [],
   "source": [
    "prediction = Dense(len(folders), activation='softmax')(x)\n",
    "\n",
    "# create a model object\n",
    "model = Model(inputs=mobilnet.input, outputs=prediction)"
   ]
  },
  {
   "cell_type": "code",
   "execution_count": 9,
   "metadata": {},
   "outputs": [
    {
     "name": "stdout",
     "output_type": "stream",
     "text": [
      "Model: \"model\"\n",
      "_________________________________________________________________\n",
      " Layer (type)                Output Shape              Param #   \n",
      "=================================================================\n",
      " input_1 (InputLayer)        [(None, 224, 224, 3)]     0         \n",
      "                                                                 \n",
      " block1_conv1 (Conv2D)       (None, 224, 224, 64)      1792      \n",
      "                                                                 \n",
      " block1_conv2 (Conv2D)       (None, 224, 224, 64)      36928     \n",
      "                                                                 \n",
      " block1_pool (MaxPooling2D)  (None, 112, 112, 64)      0         \n",
      "                                                                 \n",
      " block2_conv1 (Conv2D)       (None, 112, 112, 128)     73856     \n",
      "                                                                 \n",
      " block2_conv2 (Conv2D)       (None, 112, 112, 128)     147584    \n",
      "                                                                 \n",
      " block2_pool (MaxPooling2D)  (None, 56, 56, 128)       0         \n",
      "                                                                 \n",
      " block3_conv1 (Conv2D)       (None, 56, 56, 256)       295168    \n",
      "                                                                 \n",
      " block3_conv2 (Conv2D)       (None, 56, 56, 256)       590080    \n",
      "                                                                 \n",
      " block3_conv3 (Conv2D)       (None, 56, 56, 256)       590080    \n",
      "                                                                 \n",
      " block3_conv4 (Conv2D)       (None, 56, 56, 256)       590080    \n",
      "                                                                 \n",
      " block3_pool (MaxPooling2D)  (None, 28, 28, 256)       0         \n",
      "                                                                 \n",
      " block4_conv1 (Conv2D)       (None, 28, 28, 512)       1180160   \n",
      "                                                                 \n",
      " block4_conv2 (Conv2D)       (None, 28, 28, 512)       2359808   \n",
      "                                                                 \n",
      " block4_conv3 (Conv2D)       (None, 28, 28, 512)       2359808   \n",
      "                                                                 \n",
      " block4_conv4 (Conv2D)       (None, 28, 28, 512)       2359808   \n",
      "                                                                 \n",
      " block4_pool (MaxPooling2D)  (None, 14, 14, 512)       0         \n",
      "                                                                 \n",
      " block5_conv1 (Conv2D)       (None, 14, 14, 512)       2359808   \n",
      "                                                                 \n",
      " block5_conv2 (Conv2D)       (None, 14, 14, 512)       2359808   \n",
      "                                                                 \n",
      " block5_conv3 (Conv2D)       (None, 14, 14, 512)       2359808   \n",
      "                                                                 \n",
      " block5_conv4 (Conv2D)       (None, 14, 14, 512)       2359808   \n",
      "                                                                 \n",
      " block5_pool (MaxPooling2D)  (None, 7, 7, 512)         0         \n",
      "                                                                 \n",
      " flatten (Flatten)           (None, 25088)             0         \n",
      "                                                                 \n",
      " dense (Dense)               (None, 1)                 25089     \n",
      "                                                                 \n",
      "=================================================================\n",
      "Total params: 20,049,473\n",
      "Trainable params: 25,089\n",
      "Non-trainable params: 20,024,384\n",
      "_________________________________________________________________\n"
     ]
    }
   ],
   "source": [
    "\n",
    "# view the structure of the model\n",
    "model.summary()\n"
   ]
  },
  {
   "cell_type": "code",
   "execution_count": 10,
   "metadata": {},
   "outputs": [],
   "source": [
    "from tensorflow.keras.layers import MaxPooling2D"
   ]
  },
  {
   "cell_type": "code",
   "execution_count": 11,
   "metadata": {},
   "outputs": [
    {
     "name": "stdout",
     "output_type": "stream",
     "text": [
      "Model: \"sequential\"\n",
      "_________________________________________________________________\n",
      " Layer (type)                Output Shape              Param #   \n",
      "=================================================================\n",
      " conv2d (Conv2D)             (None, 224, 224, 16)      208       \n",
      "                                                                 \n",
      " max_pooling2d (MaxPooling2D  (None, 112, 112, 16)     0         \n",
      " )                                                               \n",
      "                                                                 \n",
      " conv2d_1 (Conv2D)           (None, 112, 112, 32)      2080      \n",
      "                                                                 \n",
      " max_pooling2d_1 (MaxPooling  (None, 56, 56, 32)       0         \n",
      " 2D)                                                             \n",
      "                                                                 \n",
      " conv2d_2 (Conv2D)           (None, 56, 56, 64)        8256      \n",
      "                                                                 \n",
      " max_pooling2d_2 (MaxPooling  (None, 28, 28, 64)       0         \n",
      " 2D)                                                             \n",
      "                                                                 \n",
      " flatten_1 (Flatten)         (None, 50176)             0         \n",
      "                                                                 \n",
      " dense_1 (Dense)             (None, 500)               25088500  \n",
      "                                                                 \n",
      " dense_2 (Dense)             (None, 2)                 1002      \n",
      "                                                                 \n",
      "=================================================================\n",
      "Total params: 25,100,046\n",
      "Trainable params: 25,100,046\n",
      "Non-trainable params: 0\n",
      "_________________________________________________________________\n"
     ]
    }
   ],
   "source": [
    "### Create Model from scratch using CNN\n",
    "model=Sequential()\n",
    "model.add(Conv2D(filters=16,kernel_size=2,padding=\"same\",activation=\"relu\",input_shape=(224,224,3)))\n",
    "model.add(MaxPooling2D(pool_size=2))\n",
    "model.add(Conv2D(filters=32,kernel_size=2,padding=\"same\",activation =\"relu\"))\n",
    "model.add(MaxPooling2D(pool_size=2))\n",
    "model.add(Conv2D(filters=64,kernel_size=2,padding=\"same\",activation=\"relu\"))\n",
    "model.add(MaxPooling2D(pool_size=2))\n",
    "model.add(Flatten())\n",
    "model.add(Dense(500,activation=\"relu\"))\n",
    "model.add(Dense(2,activation=\"softmax\"))\n",
    "model.summary()"
   ]
  },
  {
   "cell_type": "code",
   "execution_count": 12,
   "metadata": {},
   "outputs": [],
   "source": [
    "# tell the model what cost and optimization method to use\n",
    "model.compile(\n",
    "  loss='categorical_crossentropy',\n",
    "  optimizer='adam',\n",
    "  metrics=['accuracy']\n",
    ")\n"
   ]
  },
  {
   "cell_type": "code",
   "execution_count": 13,
   "metadata": {},
   "outputs": [],
   "source": [
    "# Use the Image Data Generator to import the images from the dataset\n",
    "from tensorflow.keras.preprocessing.image import ImageDataGenerator\n",
    "\n",
    "train_datagen = ImageDataGenerator(rescale = 1./255,\n",
    "                                   shear_range = 0.2,\n",
    "                                   zoom_range = 0.2,\n",
    "                                   horizontal_flip = True)\n",
    "\n",
    "test_datagen = ImageDataGenerator(rescale = 1./255)"
   ]
  },
  {
   "cell_type": "code",
   "execution_count": 14,
   "metadata": {},
   "outputs": [
    {
     "name": "stdout",
     "output_type": "stream",
     "text": [
      "Found 416 images belonging to 2 classes.\n"
     ]
    }
   ],
   "source": [
    "# Make sure you provide the same target size as initialied for the image size\n",
    "training_set = train_datagen.flow_from_directory(r\"C:\\Users\\DEBADIP CHAKRABORTY\\Downloads\\Malaria-Detection-master\\Malaria-Detection-master\\Dataset\\Dataset\\Train\",\n",
    "                                                 target_size = (224, 224),\n",
    "                                                 batch_size = 32,\n",
    "                                                 class_mode = 'categorical')"
   ]
  },
  {
   "cell_type": "code",
   "execution_count": 15,
   "metadata": {},
   "outputs": [
    {
     "data": {
      "text/plain": [
       "<keras.preprocessing.image.DirectoryIterator at 0x1dbd9ba4c40>"
      ]
     },
     "execution_count": 15,
     "metadata": {},
     "output_type": "execute_result"
    }
   ],
   "source": [
    "training_set"
   ]
  },
  {
   "cell_type": "code",
   "execution_count": 16,
   "metadata": {},
   "outputs": [
    {
     "name": "stdout",
     "output_type": "stream",
     "text": [
      "Found 134 images belonging to 2 classes.\n"
     ]
    }
   ],
   "source": [
    "test_set = test_datagen.flow_from_directory(r\"C:\\Users\\DEBADIP CHAKRABORTY\\Downloads\\Malaria-Detection-master\\Malaria-Detection-master\\Dataset\\Dataset\\Test\",\n",
    "                                            target_size = (224, 224),\n",
    "                                            batch_size = 32,\n",
    "                                            class_mode = 'categorical')"
   ]
  },
  {
   "cell_type": "code",
   "execution_count": 17,
   "metadata": {
    "scrolled": true
   },
   "outputs": [
    {
     "name": "stderr",
     "output_type": "stream",
     "text": [
      "C:\\Users\\DEBADI~1\\AppData\\Local\\Temp/ipykernel_12408/4102162479.py:3: UserWarning: `Model.fit_generator` is deprecated and will be removed in a future version. Please use `Model.fit`, which supports generators.\n",
      "  r = model.fit_generator(\n"
     ]
    },
    {
     "name": "stdout",
     "output_type": "stream",
     "text": [
      "Epoch 1/50\n",
      "13/13 [==============================] - 33s 2s/step - loss: 1.4564 - accuracy: 0.4808 - val_loss: 0.6399 - val_accuracy: 0.6791\n",
      "Epoch 2/50\n",
      "13/13 [==============================] - 25s 2s/step - loss: 0.6977 - accuracy: 0.5337 - val_loss: 0.6632 - val_accuracy: 0.6791\n",
      "Epoch 3/50\n",
      "13/13 [==============================] - 25s 2s/step - loss: 0.6754 - accuracy: 0.5745 - val_loss: 0.6845 - val_accuracy: 0.6194\n",
      "Epoch 4/50\n",
      "13/13 [==============================] - 26s 2s/step - loss: 0.6516 - accuracy: 0.5962 - val_loss: 0.6949 - val_accuracy: 0.4179\n",
      "Epoch 5/50\n",
      "13/13 [==============================] - 25s 2s/step - loss: 0.5696 - accuracy: 0.7139 - val_loss: 0.7634 - val_accuracy: 0.4701\n",
      "Epoch 6/50\n",
      "13/13 [==============================] - 27s 2s/step - loss: 0.5099 - accuracy: 0.7452 - val_loss: 0.7989 - val_accuracy: 0.3657\n",
      "Epoch 7/50\n",
      "13/13 [==============================] - 26s 2s/step - loss: 0.4753 - accuracy: 0.7524 - val_loss: 0.9067 - val_accuracy: 0.4478\n",
      "Epoch 8/50\n",
      "13/13 [==============================] - 31s 2s/step - loss: 0.4150 - accuracy: 0.8053 - val_loss: 0.7986 - val_accuracy: 0.4403\n",
      "Epoch 9/50\n",
      "13/13 [==============================] - 32s 2s/step - loss: 0.3743 - accuracy: 0.8486 - val_loss: 0.7387 - val_accuracy: 0.4776\n",
      "Epoch 10/50\n",
      "13/13 [==============================] - 31s 2s/step - loss: 0.3642 - accuracy: 0.8389 - val_loss: 0.7680 - val_accuracy: 0.5821\n",
      "Epoch 11/50\n",
      "13/13 [==============================] - 31s 2s/step - loss: 0.3046 - accuracy: 0.8774 - val_loss: 0.7738 - val_accuracy: 0.5448\n",
      "Epoch 12/50\n",
      "13/13 [==============================] - 31s 2s/step - loss: 0.2933 - accuracy: 0.8822 - val_loss: 0.5770 - val_accuracy: 0.6791\n",
      "Epoch 13/50\n",
      "13/13 [==============================] - 31s 2s/step - loss: 0.2312 - accuracy: 0.9159 - val_loss: 0.6248 - val_accuracy: 0.6940\n",
      "Epoch 14/50\n",
      "13/13 [==============================] - 32s 2s/step - loss: 0.1980 - accuracy: 0.9279 - val_loss: 0.4294 - val_accuracy: 0.7761\n",
      "Epoch 15/50\n",
      "13/13 [==============================] - 32s 2s/step - loss: 0.1827 - accuracy: 0.9399 - val_loss: 0.4938 - val_accuracy: 0.7463\n",
      "Epoch 16/50\n",
      "13/13 [==============================] - 34s 3s/step - loss: 0.1482 - accuracy: 0.9519 - val_loss: 0.4206 - val_accuracy: 0.7985\n",
      "Epoch 17/50\n",
      "13/13 [==============================] - 29s 2s/step - loss: 0.1385 - accuracy: 0.9495 - val_loss: 0.4792 - val_accuracy: 0.7985\n",
      "Epoch 18/50\n",
      "13/13 [==============================] - 28s 2s/step - loss: 0.1391 - accuracy: 0.9567 - val_loss: 0.4588 - val_accuracy: 0.8134\n",
      "Epoch 19/50\n",
      "13/13 [==============================] - 31s 2s/step - loss: 0.1182 - accuracy: 0.9615 - val_loss: 0.2529 - val_accuracy: 0.8955\n",
      "Epoch 20/50\n",
      "13/13 [==============================] - 32s 2s/step - loss: 0.0902 - accuracy: 0.9736 - val_loss: 0.2614 - val_accuracy: 0.8881\n",
      "Epoch 21/50\n",
      "13/13 [==============================] - 31s 2s/step - loss: 0.0748 - accuracy: 0.9784 - val_loss: 0.2541 - val_accuracy: 0.8881\n",
      "Epoch 22/50\n",
      "13/13 [==============================] - 46s 4s/step - loss: 0.0907 - accuracy: 0.9808 - val_loss: 0.2312 - val_accuracy: 0.8955\n",
      "Epoch 23/50\n",
      "13/13 [==============================] - 56s 4s/step - loss: 0.0848 - accuracy: 0.9688 - val_loss: 0.2593 - val_accuracy: 0.8955\n",
      "Epoch 24/50\n",
      "13/13 [==============================] - 35s 3s/step - loss: 0.1590 - accuracy: 0.9327 - val_loss: 0.4244 - val_accuracy: 0.8507\n",
      "Epoch 25/50\n",
      "13/13 [==============================] - 32s 2s/step - loss: 0.1469 - accuracy: 0.9423 - val_loss: 0.5212 - val_accuracy: 0.8134\n",
      "Epoch 26/50\n",
      "13/13 [==============================] - 37s 3s/step - loss: 0.1093 - accuracy: 0.9712 - val_loss: 0.3339 - val_accuracy: 0.8731\n",
      "Epoch 27/50\n",
      "13/13 [==============================] - 57s 4s/step - loss: 0.0825 - accuracy: 0.9688 - val_loss: 0.4916 - val_accuracy: 0.8433\n",
      "Epoch 28/50\n",
      "13/13 [==============================] - 53s 4s/step - loss: 0.1135 - accuracy: 0.9712 - val_loss: 0.3485 - val_accuracy: 0.8731\n",
      "Epoch 29/50\n",
      "13/13 [==============================] - 31s 2s/step - loss: 0.0702 - accuracy: 0.9760 - val_loss: 0.2445 - val_accuracy: 0.9104\n",
      "Epoch 30/50\n",
      "13/13 [==============================] - 31s 2s/step - loss: 0.0660 - accuracy: 0.9832 - val_loss: 0.3655 - val_accuracy: 0.8731\n",
      "Epoch 31/50\n",
      "13/13 [==============================] - 56s 4s/step - loss: 0.0700 - accuracy: 0.9808 - val_loss: 0.2433 - val_accuracy: 0.9104\n",
      "Epoch 32/50\n",
      "13/13 [==============================] - 55s 4s/step - loss: 0.0379 - accuracy: 0.9880 - val_loss: 0.4547 - val_accuracy: 0.8657\n",
      "Epoch 33/50\n",
      "13/13 [==============================] - 49s 4s/step - loss: 0.0844 - accuracy: 0.9784 - val_loss: 0.3240 - val_accuracy: 0.8806\n",
      "Epoch 34/50\n",
      "13/13 [==============================] - 31s 2s/step - loss: 0.0428 - accuracy: 0.9904 - val_loss: 0.3839 - val_accuracy: 0.8731\n",
      "Epoch 35/50\n",
      "13/13 [==============================] - 35s 3s/step - loss: 0.0434 - accuracy: 0.9904 - val_loss: 0.2075 - val_accuracy: 0.9030\n",
      "Epoch 36/50\n",
      "13/13 [==============================] - 56s 4s/step - loss: 0.1031 - accuracy: 0.9591 - val_loss: 0.2091 - val_accuracy: 0.9179\n",
      "Epoch 37/50\n",
      "13/13 [==============================] - 56s 4s/step - loss: 0.0679 - accuracy: 0.9880 - val_loss: 0.2689 - val_accuracy: 0.8955\n",
      "Epoch 38/50\n",
      "13/13 [==============================] - 57s 4s/step - loss: 0.0409 - accuracy: 0.9904 - val_loss: 0.4576 - val_accuracy: 0.8657\n",
      "Epoch 39/50\n",
      "13/13 [==============================] - 33s 2s/step - loss: 0.0684 - accuracy: 0.9856 - val_loss: 0.2937 - val_accuracy: 0.8881\n",
      "Epoch 40/50\n",
      "13/13 [==============================] - 35s 3s/step - loss: 0.0384 - accuracy: 0.9880 - val_loss: 0.2339 - val_accuracy: 0.9179\n",
      "Epoch 41/50\n",
      "13/13 [==============================] - 45s 3s/step - loss: 0.0859 - accuracy: 0.9712 - val_loss: 0.3738 - val_accuracy: 0.8731\n",
      "Epoch 42/50\n",
      "13/13 [==============================] - 44s 3s/step - loss: 0.0896 - accuracy: 0.9784 - val_loss: 0.3619 - val_accuracy: 0.8806\n",
      "Epoch 43/50\n",
      "13/13 [==============================] - 26s 2s/step - loss: 0.0451 - accuracy: 0.9880 - val_loss: 0.2215 - val_accuracy: 0.9328\n",
      "Epoch 44/50\n",
      "13/13 [==============================] - 31s 2s/step - loss: 0.0643 - accuracy: 0.9808 - val_loss: 0.2702 - val_accuracy: 0.8955\n",
      "Epoch 45/50\n",
      "13/13 [==============================] - 31s 2s/step - loss: 0.0313 - accuracy: 0.9928 - val_loss: 0.2323 - val_accuracy: 0.9179\n",
      "Epoch 46/50\n",
      "13/13 [==============================] - 35s 3s/step - loss: 0.0478 - accuracy: 0.9904 - val_loss: 0.2727 - val_accuracy: 0.9179\n",
      "Epoch 47/50\n",
      "13/13 [==============================] - 32s 2s/step - loss: 0.0575 - accuracy: 0.9856 - val_loss: 0.2986 - val_accuracy: 0.8657\n",
      "Epoch 48/50\n",
      "13/13 [==============================] - 33s 3s/step - loss: 0.0810 - accuracy: 0.9760 - val_loss: 0.2996 - val_accuracy: 0.8806\n",
      "Epoch 49/50\n",
      "13/13 [==============================] - 34s 2s/step - loss: 0.0459 - accuracy: 0.9880 - val_loss: 0.3678 - val_accuracy: 0.8881\n",
      "Epoch 50/50\n",
      "13/13 [==============================] - 31s 2s/step - loss: 0.0426 - accuracy: 0.9904 - val_loss: 0.3967 - val_accuracy: 0.9030\n"
     ]
    }
   ],
   "source": [
    "# fit the model\n",
    "# Run the cell. It will take some time to execute\n",
    "r = model.fit_generator(\n",
    "  training_set,\n",
    "  validation_data=test_set,\n",
    "  epochs=50,\n",
    "  steps_per_epoch=len(training_set),\n",
    "  validation_steps=len(test_set)\n",
    ")"
   ]
  },
  {
   "cell_type": "code",
   "execution_count": null,
   "metadata": {},
   "outputs": [],
   "source": []
  },
  {
   "cell_type": "code",
   "execution_count": 18,
   "metadata": {},
   "outputs": [
    {
     "data": {
      "image/png": "[encoded data removed]",
      "text/plain": [
       "<Figure size 432x288 with 1 Axes>"
      ]
     },
     "metadata": {
      "needs_background": "light"
     },
     "output_type": "display_data"
    },
    {
     "data": {
      "image/png": "[encoded data removed]",
      "text/plain": [
       "<Figure size 432x288 with 1 Axes>"
      ]
     },
     "metadata": {
      "needs_background": "light"
     },
     "output_type": "display_data"
    },
    {
     "data": {
      "text/plain": [
       "<Figure size 432x288 with 0 Axes>"
      ]
     },
     "metadata": {},
     "output_type": "display_data"
    }
   ],
   "source": [
    "# plot the loss\n",
    "plt.plot(r.history['loss'], label='train loss')\n",
    "plt.plot(r.history['val_loss'], label='val loss')\n",
    "plt.legend()\n",
    "plt.show()\n",
    "plt.savefig('LossVal_loss')\n",
    "\n",
    "# plot the accuracy\n",
    "plt.plot(r.history['accuracy'], label='train acc')\n",
    "plt.plot(r.history['val_accuracy'], label='val acc')\n",
    "plt.legend()\n",
    "plt.show()\n",
    "plt.savefig('AccVal_acc')"
   ]
  },
  {
   "cell_type": "code",
   "execution_count": 19,
   "metadata": {},
   "outputs": [],
   "source": [
    "# save it as a h5 file\n",
    "\n",
    "\n",
    "from tensorflow.keras.models import load_model\n",
    "\n",
    "model.save('model_vgg19.h5')"
   ]
  },
  {
   "cell_type": "code",
   "execution_count": null,
   "metadata": {},
   "outputs": [],
   "source": []
  },
  {
   "cell_type": "code",
   "execution_count": 20,
   "metadata": {},
   "outputs": [
    {
     "name": "stdout",
     "output_type": "stream",
     "text": [
      "5/5 [==============================] - 4s 583ms/step\n"
     ]
    }
   ],
   "source": [
    "\n",
    "y_pred = model.predict(test_set)\n"
   ]
  },
  {
   "cell_type": "code",
   "execution_count": 21,
   "metadata": {},
   "outputs": [
    {
     "data": {
      "text/plain": [
       "array([[1.00000000e+00, 5.72425307e-09],\n",
       "       [4.11632610e-03, 9.95883644e-01],\n",
       "       [1.05496089e-03, 9.98945057e-01],\n",
       "       [9.99961019e-01, 3.89792913e-05],\n",
       "       [9.99984264e-01, 1.56911501e-05],\n",
       "       [7.30392197e-03, 9.92696047e-01],\n",
       "       [9.99999046e-01, 9.33339606e-07],\n",
       "       [1.12780742e-02, 9.88721967e-01],\n",
       "       [2.42490298e-03, 9.97575104e-01],\n",
       "       [9.99893546e-01, 1.06474145e-04],\n",
       "       [1.00000000e+00, 1.29773916e-08],\n",
       "       [1.00000000e+00, 9.20522573e-32],\n",
       "       [1.00000000e+00, 1.19252533e-11],\n",
       "       [1.87545754e-02, 9.81245399e-01],\n",
       "       [2.39866064e-03, 9.97601330e-01],\n",
       "       [9.99997735e-01, 2.28146564e-06],\n",
       "       [1.00000000e+00, 8.93730778e-09],\n",
       "       [2.05536466e-03, 9.97944653e-01],\n",
       "       [3.27538699e-03, 9.96724665e-01],\n",
       "       [3.83787788e-03, 9.96162176e-01],\n",
       "       [4.12093615e-03, 9.95879054e-01],\n",
       "       [9.99985695e-01, 1.42965437e-05],\n",
       "       [1.00000000e+00, 1.32666469e-17],\n",
       "       [9.99999523e-01, 4.28039414e-07],\n",
       "       [1.98195665e-03, 9.98018026e-01],\n",
       "       [9.99970198e-01, 2.98320047e-05],\n",
       "       [9.99969602e-01, 3.04432979e-05],\n",
       "       [2.22437782e-04, 9.99777615e-01],\n",
       "       [2.11924617e-03, 9.97880816e-01],\n",
       "       [1.62339909e-03, 9.98376608e-01],\n",
       "       [9.99999046e-01, 9.16289821e-07],\n",
       "       [3.15170735e-02, 9.68482971e-01],\n",
       "       [1.75582338e-02, 9.82441723e-01],\n",
       "       [9.99995470e-01, 4.49244726e-06],\n",
       "       [1.37091711e-01, 8.62908304e-01],\n",
       "       [1.10398829e-02, 9.88960147e-01],\n",
       "       [9.99999762e-01, 1.99694583e-07],\n",
       "       [6.26035500e-03, 9.93739605e-01],\n",
       "       [2.78057344e-03, 9.97219443e-01],\n",
       "       [3.10744252e-02, 9.68925595e-01],\n",
       "       [1.14382326e-03, 9.98856187e-01],\n",
       "       [1.00000000e+00, 2.22427299e-09],\n",
       "       [1.50136824e-03, 9.98498678e-01],\n",
       "       [1.43965166e-02, 9.85603452e-01],\n",
       "       [9.96085405e-01, 3.91464541e-03],\n",
       "       [9.99949098e-01, 5.09127931e-05],\n",
       "       [1.21706016e-02, 9.87829447e-01],\n",
       "       [2.09131449e-01, 7.90868521e-01],\n",
       "       [1.96271762e-03, 9.98037279e-01],\n",
       "       [4.66175377e-03, 9.95338202e-01],\n",
       "       [9.99999881e-01, 1.21786798e-07],\n",
       "       [1.00000000e+00, 1.37906889e-20],\n",
       "       [1.00000000e+00, 7.61484029e-13],\n",
       "       [9.99999881e-01, 1.09904590e-07],\n",
       "       [1.00000000e+00, 6.60732482e-13],\n",
       "       [5.41450130e-03, 9.94585574e-01],\n",
       "       [8.65109544e-03, 9.91348922e-01],\n",
       "       [9.97878194e-01, 2.12178566e-03],\n",
       "       [9.99988556e-01, 1.14779486e-05],\n",
       "       [1.00000000e+00, 4.99739592e-08],\n",
       "       [3.26860584e-02, 9.67313886e-01],\n",
       "       [1.80511009e-02, 9.81948912e-01],\n",
       "       [1.00000000e+00, 1.07237259e-08],\n",
       "       [1.00000000e+00, 2.99996835e-16],\n",
       "       [4.10983115e-01, 5.89016855e-01],\n",
       "       [1.00000000e+00, 9.26826608e-31],\n",
       "       [3.96127030e-02, 9.60387349e-01],\n",
       "       [1.00000000e+00, 2.94308877e-16],\n",
       "       [1.75251102e-03, 9.98247504e-01],\n",
       "       [9.99955177e-01, 4.47650491e-05],\n",
       "       [9.99946237e-01, 5.37809356e-05],\n",
       "       [9.59863842e-01, 4.01362069e-02],\n",
       "       [1.00000000e+00, 2.58855204e-09],\n",
       "       [9.98335540e-01, 1.66444713e-03],\n",
       "       [1.82253495e-02, 9.81774688e-01],\n",
       "       [1.89582575e-02, 9.81041729e-01],\n",
       "       [2.35011475e-03, 9.97649848e-01],\n",
       "       [2.55849641e-02, 9.74415004e-01],\n",
       "       [9.99999881e-01, 7.01754530e-08],\n",
       "       [1.00000000e+00, 1.02486026e-13],\n",
       "       [9.93285418e-01, 6.71458524e-03],\n",
       "       [4.55917511e-03, 9.95440841e-01],\n",
       "       [9.99734342e-01, 2.65606068e-04],\n",
       "       [1.73844434e-02, 9.82615590e-01],\n",
       "       [3.36074270e-03, 9.96639252e-01],\n",
       "       [1.00000000e+00, 2.65950071e-29],\n",
       "       [1.00000000e+00, 3.40718441e-17],\n",
       "       [4.67156339e-03, 9.95328426e-01],\n",
       "       [1.00000000e+00, 6.02212324e-09],\n",
       "       [1.00000000e+00, 5.91855343e-10],\n",
       "       [1.00000000e+00, 2.53989250e-14],\n",
       "       [1.62752275e-03, 9.98372495e-01],\n",
       "       [1.00000000e+00, 4.86070494e-13],\n",
       "       [1.00000000e+00, 8.75165082e-16],\n",
       "       [9.99999046e-01, 9.06100240e-07],\n",
       "       [9.99997258e-01, 2.72943612e-06],\n",
       "       [1.00000000e+00, 9.09683111e-18],\n",
       "       [9.99999881e-01, 8.75813200e-08],\n",
       "       [2.82589626e-02, 9.71741021e-01],\n",
       "       [6.76690340e-01, 3.23309690e-01],\n",
       "       [9.99999762e-01, 2.24577477e-07],\n",
       "       [9.99995589e-01, 4.44316765e-06],\n",
       "       [1.29212812e-03, 9.98707891e-01],\n",
       "       [1.00000000e+00, 2.17133191e-08],\n",
       "       [3.87833384e-03, 9.96121705e-01],\n",
       "       [1.05977535e-01, 8.94022405e-01],\n",
       "       [9.99999881e-01, 8.47673221e-08],\n",
       "       [9.99999881e-01, 7.10690529e-08],\n",
       "       [3.13495053e-03, 9.96864974e-01],\n",
       "       [9.99973893e-01, 2.60539528e-05],\n",
       "       [1.00000000e+00, 4.55425237e-12],\n",
       "       [1.00000000e+00, 1.39573665e-25],\n",
       "       [9.99989510e-01, 1.05058016e-05],\n",
       "       [4.37961984e-03, 9.95620310e-01],\n",
       "       [4.89930585e-02, 9.51006949e-01],\n",
       "       [1.00000000e+00, 1.56068422e-10],\n",
       "       [1.00000000e+00, 1.00330343e-11],\n",
       "       [2.16501532e-03, 9.97834980e-01],\n",
       "       [1.00000000e+00, 3.82379373e-09],\n",
       "       [9.99994636e-01, 5.36623429e-06],\n",
       "       [5.92212319e-01, 4.07787651e-01],\n",
       "       [1.00000000e+00, 7.87080331e-11],\n",
       "       [1.00000000e+00, 5.75576591e-15],\n",
       "       [7.42652733e-03, 9.92573500e-01],\n",
       "       [6.85610762e-03, 9.93143916e-01],\n",
       "       [1.00000000e+00, 3.19186739e-08],\n",
       "       [5.59576787e-02, 9.44042325e-01],\n",
       "       [1.00000000e+00, 2.07309603e-28],\n",
       "       [1.00000000e+00, 1.88422677e-09],\n",
       "       [9.99999166e-01, 8.44969122e-07],\n",
       "       [8.46414983e-01, 1.53585076e-01],\n",
       "       [6.13965869e-01, 3.86034161e-01],\n",
       "       [9.99999881e-01, 1.61164905e-07],\n",
       "       [1.00000000e+00, 3.41170683e-08]], dtype=float32)"
      ]
     },
     "execution_count": 21,
     "metadata": {},
     "output_type": "execute_result"
    }
   ],
   "source": [
    "y_pred"
   ]
  },
  {
   "cell_type": "code",
   "execution_count": 22,
   "metadata": {},
   "outputs": [],
   "source": [
    "import numpy as np\n",
    "y_pred = np.argmax(y_pred, axis=1)"
   ]
  },
  {
   "cell_type": "code",
   "execution_count": 23,
   "metadata": {},
   "outputs": [
    {
     "data": {
      "text/plain": [
       "array([0, 1, 1, 0, 0, 1, 0, 1, 1, 0, 0, 0, 0, 1, 1, 0, 0, 1, 1, 1, 1, 0,\n",
       "       0, 0, 1, 0, 0, 1, 1, 1, 0, 1, 1, 0, 1, 1, 0, 1, 1, 1, 1, 0, 1, 1,\n",
       "       0, 0, 1, 1, 1, 1, 0, 0, 0, 0, 0, 1, 1, 0, 0, 0, 1, 1, 0, 0, 1, 0,\n",
       "       1, 0, 1, 0, 0, 0, 0, 0, 1, 1, 1, 1, 0, 0, 0, 1, 0, 1, 1, 0, 0, 1,\n",
       "       0, 0, 0, 1, 0, 0, 0, 0, 0, 0, 1, 0, 0, 0, 1, 0, 1, 1, 0, 0, 1, 0,\n",
       "       0, 0, 0, 1, 1, 0, 0, 1, 0, 0, 0, 0, 0, 1, 1, 0, 1, 0, 0, 0, 0, 0,\n",
       "       0, 0], dtype=int64)"
      ]
     },
     "execution_count": 23,
     "metadata": {},
     "output_type": "execute_result"
    }
   ],
   "source": [
    "y_pred"
   ]
  },
  {
   "cell_type": "code",
   "execution_count": null,
   "metadata": {},
   "outputs": [],
   "source": []
  },
  {
   "cell_type": "code",
   "execution_count": 24,
   "metadata": {},
   "outputs": [],
   "source": [
    "from tensorflow.keras.models import load_model\n",
    "from tensorflow.keras.preprocessing import image"
   ]
  },
  {
   "cell_type": "code",
   "execution_count": 25,
   "metadata": {},
   "outputs": [],
   "source": [
    "model=load_model('model_vgg19.h5')"
   ]
  },
  {
   "cell_type": "code",
   "execution_count": null,
   "metadata": {},
   "outputs": [],
   "source": []
  },
  {
   "cell_type": "code",
   "execution_count": 28,
   "metadata": {},
   "outputs": [],
   "source": [
    "img=image.load_img(r\"C:\\Users\\DEBADIP CHAKRABORTY\\Downloads\\Malaria-Detection-master\\Malaria-Detection-master\\Dataset\\Dataset\\Test\\Uninfected\\C3thin_original_IMG_20150608_163002_cell_34.png\",target_size=(224,224))\n",
    "\n"
   ]
  },
  {
   "cell_type": "code",
   "execution_count": 29,
   "metadata": {},
   "outputs": [
    {
     "data": {
      "text/plain": [
       "array([[[0., 0., 0.],\n",
       "        [0., 0., 0.],\n",
       "        [0., 0., 0.],\n",
       "        ...,\n",
       "        [0., 0., 0.],\n",
       "        [0., 0., 0.],\n",
       "        [0., 0., 0.]],\n",
       "\n",
       "       [[0., 0., 0.],\n",
       "        [0., 0., 0.],\n",
       "        [0., 0., 0.],\n",
       "        ...,\n",
       "        [0., 0., 0.],\n",
       "        [0., 0., 0.],\n",
       "        [0., 0., 0.]],\n",
       "\n",
       "       [[0., 0., 0.],\n",
       "        [0., 0., 0.],\n",
       "        [0., 0., 0.],\n",
       "        ...,\n",
       "        [0., 0., 0.],\n",
       "        [0., 0., 0.],\n",
       "        [0., 0., 0.]],\n",
       "\n",
       "       ...,\n",
       "\n",
       "       [[0., 0., 0.],\n",
       "        [0., 0., 0.],\n",
       "        [0., 0., 0.],\n",
       "        ...,\n",
       "        [0., 0., 0.],\n",
       "        [0., 0., 0.],\n",
       "        [0., 0., 0.]],\n",
       "\n",
       "       [[0., 0., 0.],\n",
       "        [0., 0., 0.],\n",
       "        [0., 0., 0.],\n",
       "        ...,\n",
       "        [0., 0., 0.],\n",
       "        [0., 0., 0.],\n",
       "        [0., 0., 0.]],\n",
       "\n",
       "       [[0., 0., 0.],\n",
       "        [0., 0., 0.],\n",
       "        [0., 0., 0.],\n",
       "        ...,\n",
       "        [0., 0., 0.],\n",
       "        [0., 0., 0.],\n",
       "        [0., 0., 0.]]], dtype=float32)"
      ]
     },
     "execution_count": 29,
     "metadata": {},
     "output_type": "execute_result"
    }
   ],
   "source": [
    "x=image.img_to_array(img)\n",
    "x"
   ]
  },
  {
   "cell_type": "code",
   "execution_count": 30,
   "metadata": {},
   "outputs": [
    {
     "data": {
      "text/plain": [
       "(224, 224, 3)"
      ]
     },
     "execution_count": 30,
     "metadata": {},
     "output_type": "execute_result"
    }
   ],
   "source": [
    "x.shape"
   ]
  },
  {
   "cell_type": "code",
   "execution_count": 31,
   "metadata": {},
   "outputs": [],
   "source": [
    "x=x/255"
   ]
  },
  {
   "cell_type": "code",
   "execution_count": 32,
   "metadata": {},
   "outputs": [
    {
     "data": {
      "text/plain": [
       "(1, 224, 224, 3)"
      ]
     },
     "execution_count": 32,
     "metadata": {},
     "output_type": "execute_result"
    }
   ],
   "source": [
    "x=np.expand_dims(x,axis=0)\n",
    "img_data=preprocess_input(x)\n",
    "img_data.shape"
   ]
  },
  {
   "cell_type": "code",
   "execution_count": 33,
   "metadata": {},
   "outputs": [
    {
     "name": "stdout",
     "output_type": "stream",
     "text": [
      "1/1 [==============================] - 0s 183ms/step\n"
     ]
    },
    {
     "data": {
      "text/plain": [
       "array([[0., 1.]], dtype=float32)"
      ]
     },
     "execution_count": 33,
     "metadata": {},
     "output_type": "execute_result"
    }
   ],
   "source": [
    "model.predict(img_data)"
   ]
  },
  {
   "cell_type": "code",
   "execution_count": 34,
   "metadata": {},
   "outputs": [
    {
     "name": "stdout",
     "output_type": "stream",
     "text": [
      "1/1 [==============================] - 0s 54ms/step\n"
     ]
    }
   ],
   "source": [
    "a=np.argmax(model.predict(img_data), axis=1)"
   ]
  },
  {
   "cell_type": "code",
   "execution_count": 35,
   "metadata": {},
   "outputs": [
    {
     "name": "stdout",
     "output_type": "stream",
     "text": [
      "Uninfected\n"
     ]
    }
   ],
   "source": [
    "if(a==1):\n",
    "    print(\"Uninfected\")\n",
    "else:\n",
    "    print(\"Infected\")"
   ]
  },
  {
   "cell_type": "code",
   "execution_count": null,
   "metadata": {},
   "outputs": [],
   "source": []
  },
  {
   "cell_type": "code",
   "execution_count": null,
   "metadata": {},
   "outputs": [],
   "source": []
  }
 ],
 "metadata": {
  "kernelspec": {
   "display_name": "Python 3 (ipykernel)",
   "language": "python",
   "name": "python3"
  },
  "language_info": {
   "codemirror_mode": {
    "name": "ipython",
    "version": 3
   },
   "file_extension": ".py",
   "mimetype": "text/x-python",
   "name": "python",
   "nbconvert_exporter": "python",
   "pygments_lexer": "ipython3",
   "version": "3.9.7"
  }
 },
 "nbformat": 4,
 "nbformat_minor": 2
}
